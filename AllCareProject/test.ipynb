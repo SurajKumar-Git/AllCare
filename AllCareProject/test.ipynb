{
 "nbformat": 4,
 "nbformat_minor": 2,
 "metadata": {
  "language_info": {
   "name": "python",
   "codemirror_mode": {
    "name": "ipython",
    "version": 3
   },
   "version": "3.7.6-final"
  },
  "orig_nbformat": 2,
  "file_extension": ".py",
  "mimetype": "text/x-python",
  "name": "python",
  "npconvert_exporter": "python",
  "pygments_lexer": "ipython3",
  "version": 3,
  "kernelspec": {
   "name": "python37632bitb3efeef0198b4651948806f5a3fcf4ba",
   "display_name": "Python 3.7.6 32-bit"
  }
 },
 "cells": [
  {
   "cell_type": "code",
   "execution_count": 1,
   "metadata": {},
   "outputs": [],
   "source": [
    "from datetime import date\n",
    "from test import Test\n",
    "from AllCareApp.Elders_and_CareProvider import Elder, CareProvider"
   ]
  },
  {
   "cell_type": "code",
   "execution_count": 2,
   "metadata": {},
   "outputs": [
    {
     "output_type": "stream",
     "name": "stdout",
     "text": "1001 Elder1 ABC@121\n1002 Elder2 ABC@122\n1003 Elder3 ABC@123\n1004 Elder4 ABC@124\n1005 Elder5 ABC@125\n1006 Careprovider1 ABC@126\n1007 Careprovider2 ABC@127\n1008 Careprovider3 ABC@128\n1009 Careprovider4 ABC@129\n1010 Careprovider5 ABC@130\n"
    }
   ],
   "source": [
    "e1 = Elder(\"Elder1\",\"ABC@121\",date(1950,1,1), 123456789, \"Address1\")\n",
    "e2 = Elder(\"Elder2\",\"ABC@122\",date(1940,1,1), 123456789, \"Address2\")\n",
    "e3 = Elder(\"Elder3\",\"ABC@123\",date(1954,1,1), 123456789, \"Address3\")\n",
    "e4 = Elder(\"Elder4\",\"ABC@124\",date(1958,1,1), 123456789, \"Address4\")\n",
    "e5 = Elder(\"Elder5\",\"ABC@125\",date(1941,1,1), 123456789, \"Address5\")\n",
    "\n",
    "y1 = CareProvider(\"Careprovider1\",\"ABC@126\",date(1995,2,2), 987654321,\"Address6\")\n",
    "y2 = CareProvider(\"Careprovider2\",\"ABC@127\", date(1996,2,2), 987654321,\"Address7\")\n",
    "y3 = CareProvider(\"Careprovider3\",\"ABC@128\", date(1993,2,2), 987654321,\"Address8\")\n",
    "y4 = CareProvider(\"Careprovider4\",\"ABC@129\", date(1990,2,2), 987654321,\"Address9\")\n",
    "y5 = CareProvider(\"Careprovider5\",\"ABC@130\", date(1994,2,2), 987654321,\"Address10\")\n",
    "\n",
    "print(e1.get_userid(),e1.get_name(),e1.get_password())\n",
    "print(e2.get_userid(),e2.get_name(),e2.get_password())\n",
    "print(e3.get_userid(),e3.get_name(),e3.get_password())\n",
    "print(e4.get_userid(),e4.get_name(),e4.get_password())\n",
    "print(e5.get_userid(),e5.get_name(),e5.get_password())\n",
    "print(y1.get_userid(),y1.get_name(),y1.get_password())\n",
    "print(y2.get_userid(),y2.get_name(),y2.get_password())\n",
    "print(y3.get_userid(),y3.get_name(),y3.get_password())\n",
    "print(y4.get_userid(),y4.get_name(),y4.get_password())\n",
    "print(y5.get_userid(),y5.get_name(),y5.get_password())\n",
    ""
   ]
  },
  {
   "cell_type": "code",
   "execution_count": 7,
   "metadata": {},
   "outputs": [
    {
     "output_type": "stream",
     "name": "stdout",
     "text": "\nHi, Careprovider1\n\nEnter\n1. View Elders list to make request\n2. View sent requests\n3. View MyCare Members\n4. View All Care Plans\n5. View My Care Plan\n6. Give rating and review to All Care\n7. View rating and review to All Care\nOther Key to Log Out\nLogout\n"
    }
   ],
   "source": [
    "Test.start()"
   ]
  },
  {
   "cell_type": "code",
   "execution_count": null,
   "metadata": {},
   "outputs": [],
   "source": []
  }
 ]
}